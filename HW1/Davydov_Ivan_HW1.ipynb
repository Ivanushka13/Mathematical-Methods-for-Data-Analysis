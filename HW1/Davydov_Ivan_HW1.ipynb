{
 "cells": [
  {
   "cell_type": "markdown",
   "metadata": {
    "id": "5GYwwlTcuJ4m"
   },
   "source": [
    "# HSE 2023: Mathematical Methods for Data Analysis\n",
    "\n",
    "## Homework 1"
   ]
  },
  {
   "cell_type": "markdown",
   "metadata": {
    "id": "2OMoZn7puJ4n"
   },
   "source": [
    "### Attention!\n",
    "* For tasks where <ins>text answer</ins> is required **Russian language** is **allowed**.\n",
    "* If a task asks you to describe something (make conclusions) then **text answer** is **mandatory** and **is** part of the task\n",
    "* **Do not** upload the dataset (titanic.csv) to the grading system (we already have it)\n",
    "* We **only** accept **ipynb** notebooks. If you use Google Colab then you'll have to download the notebook before passing the homework\n",
    "* **Do not** use python loops instead of NumPy vector operations over NumPy vectors - it significantly decreases performance (see why https://blog.paperspace.com/numpy-optimization-vectorization-and-broadcasting/), will be punished with -0.25 for **every** task.\n",
    "Loops are only allowed in part 1 (Tasks 1 - 4).\n",
    "* Some tasks contain tests. They only test your solution on a simple example, thus, passing the test does **not** guarantee you the full grade for the task."
   ]
  },
  {
   "cell_type": "code",
   "execution_count": 1,
   "metadata": {
    "id": "KVxhOZOXuJ4o"
   },
   "outputs": [],
   "source": [
    "%matplotlib inline\n",
    "import numpy as np\n",
    "import pandas as pd\n",
    "import matplotlib.pyplot as plt\n",
    "import seaborn as sns"
   ]
  },
  {
   "cell_type": "markdown",
   "metadata": {
    "id": "U20kQiWSuJ4o"
   },
   "source": [
    "# 1. Python (2 points)"
   ]
  },
  {
   "cell_type": "markdown",
   "metadata": {
    "id": "q6l8_yRXuJ4o"
   },
   "source": [
    "**Task 1** (0.5 points)<br/>\n",
    "Enter nonzero numbers `a`, `d` and `N`. Find the sum of the first `N` members of [harmonic sequence](https://en.wikipedia.org/wiki/Harmonic_progression_(mathematics)) with the first member denominator `a`"
   ]
  },
  {
   "cell_type": "code",
   "execution_count": 9,
   "metadata": {
    "id": "H2VAlE4WuJ4o"
   },
   "outputs": [
    {
     "name": "stdout",
     "output_type": "stream",
     "text": [
      "1.8333333333333333\n"
     ]
    }
   ],
   "source": [
    "def find_sum(a: int, d: int, N: int) -> float:\n",
    "    result = 0\n",
    "    for i in range(N):\n",
    "        result += 1/(a + i * d)\n",
    "    return result\n",
    "\n",
    "a = 1\n",
    "d = 1\n",
    "N = 3\n",
    "print(find_sum(a, d, N))"
   ]
  },
  {
   "cell_type": "markdown",
   "metadata": {
    "id": "FCtV7ud0uJ4p"
   },
   "source": [
    "**Task 2** (0.5 points) <br/>\n",
    "Enter an integer number `N`. Check if it is a palindrome number **without converting it to the string**. It means that it can be read equally from left to right and from right to back."
   ]
  },
  {
   "cell_type": "code",
   "execution_count": 14,
   "metadata": {
    "id": "-7y9eR62uJ4p"
   },
   "outputs": [
    {
     "name": "stdout",
     "output_type": "stream",
     "text": [
      "3 True\n",
      "81 False\n",
      "111 True\n",
      "113 False\n",
      "810 False\n",
      "2022 False\n",
      "4774 True\n",
      "51315 True\n",
      "611816 False\n"
     ]
    }
   ],
   "source": [
    "def check_palindrome(N):\n",
    "    old_num, new_num = N, 0\n",
    "    while(N > 0):\n",
    "        new_num *= 10\n",
    "        new_num += N % 10\n",
    "        N //= 10\n",
    "    check_palindrome = (old_num == new_num)\n",
    "    return check_palindrome\n",
    "\n",
    "for N in [3, 81, 111, 113, 810, 2022, 4774, 51315, 611816]:\n",
    "    print(N, check_palindrome(N))"
   ]
  },
  {
   "cell_type": "markdown",
   "metadata": {
    "id": "MTmGn0IXuJ4p"
   },
   "source": [
    "**Task 3** (0.5 points) <br/>\n",
    "Find the first `N` palindrome numbers starting from 42 (you may use the function from the precious task)."
   ]
  },
  {
   "cell_type": "code",
   "execution_count": 19,
   "metadata": {
    "id": "eWD7K18OuJ4p"
   },
   "outputs": [
    {
     "name": "stdout",
     "output_type": "stream",
     "text": [
      "[44, 55, 66]\n",
      "[44, 55, 66, 77, 88, 99, 101, 111, 121, 131, 141, 151, 161]\n",
      "[44, 55, 66, 77, 88, 99, 101, 111, 121, 131, 141, 151, 161, 171, 181, 191, 202, 212, 222, 232, 242, 252, 262]\n"
     ]
    }
   ],
   "source": [
    "def find_palindromes(N):\n",
    "    flag, count, i = False, 0, 44\n",
    "    palindromes = []\n",
    "    while(flag == False):\n",
    "        if check_palindrome(i):\n",
    "            palindromes.append(i)\n",
    "            count += 1\n",
    "            if count == N:\n",
    "                flag = True\n",
    "        i += 1\n",
    "    return palindromes\n",
    "\n",
    "print(find_palindromes(3))\n",
    "print(find_palindromes(13))\n",
    "print(find_palindromes(23))"
   ]
  },
  {
   "cell_type": "markdown",
   "metadata": {
    "id": "xl9sWBMFuJ4p"
   },
   "source": [
    "**Task 4** (0.5 points) <br/>\n",
    "There are numbers: `a`, `b`, `c`. Without using functions `min`, `max` and other functions, find the median number."
   ]
  },
  {
   "cell_type": "code",
   "execution_count": 20,
   "metadata": {
    "id": "STOaXhYbuJ4p"
   },
   "outputs": [
    {
     "name": "stdout",
     "output_type": "stream",
     "text": [
      "-71 97 63 \tMedian: 63\n",
      "-68 -63 -63 \tMedian: -63\n",
      "-94 59 -68 \tMedian: -68\n",
      "33 -90 7 \tMedian: 7\n",
      "98 85 80 \tMedian: 85\n",
      "-84 -73 30 \tMedian: -73\n",
      "16 -86 -18 \tMedian: -18\n",
      "16 -86 -14 \tMedian: -14\n",
      "51 -54 -36 \tMedian: -36\n",
      "-32 14 -73 \tMedian: -32\n"
     ]
    }
   ],
   "source": [
    "from random import randint\n",
    "\n",
    "def find_median(a, b, c):\n",
    "    result = 0\n",
    "    if a <= b <= c or c <= b <= a:\n",
    "        result = b\n",
    "    elif b <= a <= c or c <= a <= b:\n",
    "        result = a\n",
    "    else:\n",
    "        result = c\n",
    "    return result\n",
    "\n",
    "for i in range(10):\n",
    "\n",
    "    a = randint(-100, 100)\n",
    "    b = randint(-100, 100)\n",
    "    c = randint(-100, 100)\n",
    "\n",
    "    print(a, b, c, '\\tMedian:', find_median(a, b, c))"
   ]
  },
  {
   "cell_type": "markdown",
   "metadata": {
    "id": "up1L0oApuJ4p"
   },
   "source": [
    "# 2. Numpy (4 points)"
   ]
  },
  {
   "cell_type": "markdown",
   "metadata": {
    "id": "mWVb1DCyuJ4p"
   },
   "source": [
    "**Task 1** (0.5 points) <br/>\n",
    "Create a random array from Gaussian distribution with length of 12 and with sum of its elements equal to 15. Distribution shall be left Gaussian"
   ]
  },
  {
   "cell_type": "code",
   "execution_count": 112,
   "metadata": {
    "id": "r0p7U44VuJ4p"
   },
   "outputs": [
    {
     "name": "stdout",
     "output_type": "stream",
     "text": [
      "Length: 12\n",
      "Sum of elements: 15.0\n"
     ]
    }
   ],
   "source": [
    "my_array = np.random.normal(0, 1, 12)\n",
    "my_array -= np.min(my_array)\n",
    "my_array *= 15 / np.sum(my_array)\n",
    "\n",
    "print(f'Length: {len(my_array)}')\n",
    "print(f'Sum of elements: {np.sum(my_array)}')"
   ]
  },
  {
   "cell_type": "markdown",
   "metadata": {
    "id": "k4v47kP0uJ4p"
   },
   "source": [
    "**Task 2** (0.5 points) <br/>\n",
    "Create two random arrays $a$ and $b$ with the same length.\n",
    "\n",
    "Calculate the following distances between the arrays **without using any special function. You may only use basic numpy operations (`np.linalg.*` and other high-level ones are prohibited).**:\n",
    "\n",
    "* Manhattan Distance\n",
    "$$ d(a, b) = \\sum_i |a_i - b_i| $$\n",
    "* Euclidean Distance\n",
    "$$ d(a, b) = \\sqrt{\\sum_i (a_i - b_i)^2} $$\n",
    "* Chebyshev Distance\n",
    "$$ d(a, b) = \\underset{i}{max} |a_i - b_i| $$\n",
    "* Cosine Distance\n",
    "$$ d(a, b) = 1 - \\frac{a^\\top b}{||a||_2\\cdot||b||_2} $$\n"
   ]
  },
  {
   "cell_type": "code",
   "execution_count": 270,
   "metadata": {
    "id": "W3veWp-VuJ4p"
   },
   "outputs": [],
   "source": [
    "def calculate_manhattan(a, b):\n",
    "    return np.sum(np.abs(a - b))\n",
    "\n",
    "def calculate_euclidean(a, b):\n",
    "    return np.sqrt(np.sum(np.square(a - b)))\n",
    "\n",
    "def calculate_chebyshev(a, b):\n",
    "    distance = np.max(np.abs(a - b))\n",
    "    return distance\n",
    "\n",
    "def calculate_cosine(a, b):\n",
    "    distance = 1 - (a.T.dot(b))/(np.sqrt(np.sum(np.square(a))) * np.sqrt(np.sum(np.square(b))))\n",
    "    return distance"
   ]
  },
  {
   "cell_type": "code",
   "execution_count": 271,
   "metadata": {
    "id": "IbB3TB77uJ4q"
   },
   "outputs": [
    {
     "name": "stdout",
     "output_type": "stream",
     "text": [
      "Manhattan distance: 11\n",
      "Euclidean distance: 8.06225774829855\n",
      "Chebyshev distance: 7\n",
      "Cosine distance: 0.12427227892797521\n"
     ]
    }
   ],
   "source": [
    "size = 5\n",
    "a = np.random.randint(low=1, high=10, size=size)\n",
    "b = np.random.randint(low=1, high=10, size=size)\n",
    "\n",
    "print(f'Manhattan distance: {calculate_manhattan(a, b)}')\n",
    "print(f'Euclidean distance: {calculate_euclidean(a, b)}')\n",
    "print(f'Chebyshev distance: {calculate_chebyshev(a, b)}')\n",
    "print(f'Cosine distance: {calculate_cosine(a, b)}')"
   ]
  },
  {
   "cell_type": "markdown",
   "metadata": {
    "id": "0inovs_suJ4q"
   },
   "source": [
    "**Task 3** (0.5 points) <br/>\n",
    "Create a random array of integers with length of 42. Transform the array so that\n",
    "* Maximum element(s) value is 10\n",
    "* Minimum element(s) value is -6\n",
    "* Other values are in interval (-6; 10) without changing the relative order (relation $\\frac{x_i}{x_{i-1}}=\\frac{\\widehat{x}_{i}}{\\widehat{x}_{i-1}}$ holds)"
   ]
  },
  {
   "cell_type": "code",
   "execution_count": 277,
   "metadata": {
    "id": "FhoGLR5CuJ4q"
   },
   "outputs": [],
   "source": [
    "def transform(array):\n",
    "    to_multiple = 16 / (np.max(array) - np.min(array))\n",
    "    transformed_array = (array - np.min(array)) * to_multiple - 6\n",
    "    return transformed_array"
   ]
  },
  {
   "cell_type": "code",
   "execution_count": 278,
   "metadata": {
    "id": "8BE5MjUMuJ4q"
   },
   "outputs": [
    {
     "name": "stdout",
     "output_type": "stream",
     "text": [
      "Min: -6.0\n",
      "Max: 10.0\n",
      "Array:\n",
      "[-4.34196891  9.58549223 -4.09326425  2.87046632 -5.33678756 -3.01554404\n",
      " -3.92746114  7.51295337  5.77202073  9.00518135 10.         -5.17098446\n",
      " -2.76683938  4.3626943  -4.42487047 -3.76165803  7.51295337 -3.84455959\n",
      " -5.75129534  5.93782383  1.4611399   2.45595855 -1.44041451  1.95854922\n",
      "  7.76165803 -0.19689119 -0.27979275  6.02072539  9.17098446  8.83937824\n",
      "  2.95336788 -6.         -0.3626943  -3.51295337  0.46632124  8.25906736\n",
      " -4.09326425  4.69430052  1.87564767  1.12953368 -4.92227979  7.2642487 ]\n"
     ]
    }
   ],
   "source": [
    "my_array = np.random.randint(low= -100, high = 100, size = 42)\n",
    "my_array = transform(my_array)\n",
    "\n",
    "print(f'Min: {np.min(my_array)}')\n",
    "print(f'Max: {np.max(my_array)}')\n",
    "print('Array:')\n",
    "print(my_array)"
   ]
  },
  {
   "cell_type": "markdown",
   "metadata": {
    "id": "2uFda-U_uJ4q"
   },
   "source": [
    "**Task 4** (0.5 points) <br/>\n",
    "Create an array with shape of $10 \\times 3$ with integers from [-12, 4]. Find a column that contains the minimum element of the array."
   ]
  },
  {
   "cell_type": "code",
   "execution_count": 292,
   "metadata": {
    "id": "u4QV7NVIuJ4q"
   },
   "outputs": [
    {
     "name": "stdout",
     "output_type": "stream",
     "text": [
      "Shape:  (10, 3)\n",
      "Array:\n",
      "[[ -9 -10   3]\n",
      " [ -7  -2   3]\n",
      " [ -9  -6   3]\n",
      " [ -8   2   3]\n",
      " [-10  -9 -11]\n",
      " [-10  -7  -2]\n",
      " [ -4  -6  -9]\n",
      " [  1 -11  -6]\n",
      " [ -3 -12  -7]\n",
      " [ -9  -5 -12]]\n",
      "Selected column: [-10  -2  -6   2  -9  -7  -6 -11 -12  -5]\n"
     ]
    }
   ],
   "source": [
    "my_array = np.random.randint(low= -12, high = 4, size=(10, 3))\n",
    "selected_column = my_array[:, np.argwhere(my_array == np.min(my_array))[0][1]]\n",
    "print('Shape: ', my_array.shape)\n",
    "print('Array:')\n",
    "print(my_array)\n",
    "print(f'Selected column: {selected_column}')"
   ]
  },
  {
   "cell_type": "markdown",
   "metadata": {
    "id": "9ct8lQ4BuJ4q"
   },
   "source": [
    "**Task 5** (0.5 points) <br/>\n",
    "\n",
    "Replace all missing values in the following array with the most appropriate quantile, explain why you chose it."
   ]
  },
  {
   "cell_type": "code",
   "execution_count": 300,
   "metadata": {
    "id": "RJ-6HPUQuJ4q"
   },
   "outputs": [
    {
     "name": "stdout",
     "output_type": "stream",
     "text": [
      "Array:\n",
      "[       nan 0.04546543 0.59012324        nan        nan 0.22348932\n",
      " 0.31662515        nan 0.83001069 0.04915304]\n"
     ]
    }
   ],
   "source": [
    "arr = np.random.rand(10)\n",
    "idx = np.random.randint(0, 10, 4)\n",
    "arr[idx] = np.nan\n",
    "\n",
    "print('Array:')\n",
    "print(arr)"
   ]
  },
  {
   "cell_type": "code",
   "execution_count": 303,
   "metadata": {
    "id": "wZV63ohyuJ4q"
   },
   "outputs": [],
   "source": [
    "def replace_missing(arr):\n",
    "    array_without_missing = arr\n",
    "    median = np.nanmedian(arr)  \n",
    "    array_without_missing[np.isnan(arr)] = median\n",
    "    return array_without_missing"
   ]
  },
  {
   "cell_type": "code",
   "execution_count": 304,
   "metadata": {
    "id": "_hG2tbcPuJ4q"
   },
   "outputs": [
    {
     "name": "stdout",
     "output_type": "stream",
     "text": [
      "Array with no missing values:\n",
      "[0.27005724 0.04546543 0.59012324 0.27005724 0.27005724 0.22348932\n",
      " 0.31662515 0.27005724 0.83001069 0.04915304]\n"
     ]
    }
   ],
   "source": [
    "arr = replace_missing(arr)\n",
    "print('Array with no missing values:')\n",
    "print(arr)"
   ]
  },
  {
   "cell_type": "markdown",
   "metadata": {
    "id": "eacEv4K39AAp"
   },
   "source": [
    "**Answer:** I take a median value for the missing values, because it will save the distribution and will not interfere the analysis "
   ]
  },
  {
   "cell_type": "markdown",
   "metadata": {
    "id": "HX2x-qUEuJ4q"
   },
   "source": [
    "**Task 6** (0.5 points) <br/>\n",
    "Create a function which takes an image ```X``` (3D array of the shape (n, m, 3)) as an input and returns the median and std for every channel (you should get a vector of shape 3, RGB)."
   ]
  },
  {
   "cell_type": "code",
   "execution_count": 206,
   "metadata": {
    "id": "pbdP4x4AuJ4q"
   },
   "outputs": [],
   "source": [
    "def stats_channel(X):\n",
    "    median = np.median(X, axis=(0, 1))\n",
    "    std = np.std(X, axis=(0, 1))\n",
    "    return median, std"
   ]
  },
  {
   "cell_type": "code",
   "execution_count": 207,
   "metadata": {
    "id": "hucX0ybWuJ4q"
   },
   "outputs": [
    {
     "name": "stdout",
     "output_type": "stream",
     "text": [
      "(array([-1., -3., -2.]), array([5.57772329, 5.47942116, 5.45902866]))\n"
     ]
    }
   ],
   "source": [
    "n = 19\n",
    "m = 23\n",
    "X = np.random.randint(-11, 8, size=(n, m, 3))\n",
    "print(stats_channel(X))"
   ]
  },
  {
   "cell_type": "markdown",
   "metadata": {
    "id": "0Pg2nDCxuJ4q"
   },
   "source": [
    "### **Task 7** (1 points) <br/>\n",
    "Create a function which takes a 3D matrix ```X``` as an input and returns all its unique values along the first axis.\n",
    "\n",
    "Sample input:\n",
    "\n",
    "```\n",
    "np.array(\n",
    "  [[[1, 2, 3],\n",
    "    [1, 2, 3],\n",
    "    [1, 2, 3]],\n",
    "\n",
    "   [[4, 5, 6],\n",
    "    [4, 5, 7],\n",
    "    [4, 5, 6]],\n",
    "\n",
    "   [[7, 8, 9],\n",
    "    [7, 8, 9],\n",
    "    [7, 8, 9]]]\n",
    ")\n",
    "```\n",
    "  \n",
    "Sample output:\n",
    "\n",
    "```\n",
    "np.array(\n",
    "  [[[1, 2, 3],\n",
    "    [1, 2, 3]],\n",
    "\n",
    "   [[4, 5, 6],\n",
    "    [4, 5, 7]],\n",
    "\n",
    "   [[7, 8, 9],\n",
    "    [7, 8, 9]]]\n",
    ")\n",
    "```"
   ]
  },
  {
   "cell_type": "code",
   "execution_count": 215,
   "metadata": {
    "id": "YdsrT0G8uJ4q"
   },
   "outputs": [],
   "source": [
    "def get_unique_values(X):\n",
    "    reshaped_X = X.reshape(X.shape[0], -1)\n",
    "    result = np.unique(reshaped_X, axis=1)\n",
    "    result = result.reshape(result.shape[0], *X.shape[1:])\n",
    "    return result"
   ]
  },
  {
   "cell_type": "code",
   "execution_count": 216,
   "metadata": {
    "id": "UNvyiySzuJ4q"
   },
   "outputs": [
    {
     "name": "stdout",
     "output_type": "stream",
     "text": [
      "Matrix:\n",
      "[[[4 5 5]\n",
      "  [5 5 5]\n",
      "  [5 5 5]]\n",
      "\n",
      " [[5 5 5]\n",
      "  [4 5 4]\n",
      "  [5 4 4]]\n",
      "\n",
      " [[5 4 5]\n",
      "  [4 5 4]\n",
      "  [5 5 4]]\n",
      "\n",
      " [[5 4 4]\n",
      "  [5 4 4]\n",
      "  [4 5 5]]\n",
      "\n",
      " [[4 5 4]\n",
      "  [5 4 5]\n",
      "  [4 4 5]]\n",
      "\n",
      " [[5 5 5]\n",
      "  [4 4 5]\n",
      "  [4 5 5]]\n",
      "\n",
      " [[4 5 4]\n",
      "  [5 4 4]\n",
      "  [5 5 4]]\n",
      "\n",
      " [[5 4 4]\n",
      "  [4 5 5]\n",
      "  [5 4 4]]\n",
      "\n",
      " [[5 4 4]\n",
      "  [5 5 4]\n",
      "  [4 4 5]]\n",
      "\n",
      " [[5 4 4]\n",
      "  [4 5 4]\n",
      "  [4 4 5]]\n",
      "\n",
      " [[4 5 4]\n",
      "  [5 4 5]\n",
      "  [5 5 4]]\n",
      "\n",
      " [[5 5 4]\n",
      "  [5 5 4]\n",
      "  [5 5 5]]\n",
      "\n",
      " [[4 5 4]\n",
      "  [4 4 4]\n",
      "  [5 4 5]]\n",
      "\n",
      " [[5 4 4]\n",
      "  [4 5 5]\n",
      "  [4 4 4]]\n",
      "\n",
      " [[5 5 5]\n",
      "  [4 5 4]\n",
      "  [5 5 4]]\n",
      "\n",
      " [[4 4 4]\n",
      "  [5 5 4]\n",
      "  [5 4 5]]\n",
      "\n",
      " [[4 5 4]\n",
      "  [4 5 5]\n",
      "  [4 5 5]]\n",
      "\n",
      " [[4 5 4]\n",
      "  [4 4 5]\n",
      "  [4 4 4]]\n",
      "\n",
      " [[5 5 5]\n",
      "  [4 4 4]\n",
      "  [4 4 4]]]\n",
      "Unique :\n"
     ]
    },
    {
     "data": {
      "text/plain": [
       "array([[[4, 5, 5],\n",
       "        [5, 5, 5],\n",
       "        [5, 5, 5]],\n",
       "\n",
       "       [[5, 4, 4],\n",
       "        [4, 4, 5],\n",
       "        [5, 5, 5]],\n",
       "\n",
       "       [[5, 4, 4],\n",
       "        [4, 5, 4],\n",
       "        [5, 5, 5]],\n",
       "\n",
       "       [[5, 4, 5],\n",
       "        [5, 5, 4],\n",
       "        [4, 4, 4]],\n",
       "\n",
       "       [[4, 5, 5],\n",
       "        [5, 4, 5],\n",
       "        [4, 4, 4]],\n",
       "\n",
       "       [[5, 5, 4],\n",
       "        [5, 5, 5],\n",
       "        [4, 4, 5]],\n",
       "\n",
       "       [[4, 4, 5],\n",
       "        [4, 5, 5],\n",
       "        [4, 5, 4]],\n",
       "\n",
       "       [[5, 5, 4],\n",
       "        [4, 4, 4],\n",
       "        [5, 5, 4]],\n",
       "\n",
       "       [[5, 4, 5],\n",
       "        [5, 4, 4],\n",
       "        [5, 4, 4]],\n",
       "\n",
       "       [[5, 4, 4],\n",
       "        [5, 4, 4],\n",
       "        [5, 4, 4]],\n",
       "\n",
       "       [[4, 5, 5],\n",
       "        [4, 5, 5],\n",
       "        [4, 5, 4]],\n",
       "\n",
       "       [[5, 4, 5],\n",
       "        [5, 5, 5],\n",
       "        [5, 5, 4]],\n",
       "\n",
       "       [[4, 4, 4],\n",
       "        [5, 4, 5],\n",
       "        [4, 5, 4]],\n",
       "\n",
       "       [[5, 5, 4],\n",
       "        [4, 4, 4],\n",
       "        [5, 4, 4]],\n",
       "\n",
       "       [[5, 4, 4],\n",
       "        [4, 5, 5],\n",
       "        [5, 5, 5]],\n",
       "\n",
       "       [[4, 4, 5],\n",
       "        [5, 4, 4],\n",
       "        [5, 5, 4]],\n",
       "\n",
       "       [[4, 5, 4],\n",
       "        [5, 5, 5],\n",
       "        [5, 4, 4]],\n",
       "\n",
       "       [[4, 5, 4],\n",
       "        [4, 4, 5],\n",
       "        [4, 4, 4]],\n",
       "\n",
       "       [[5, 4, 4],\n",
       "        [4, 4, 5],\n",
       "        [4, 4, 5]]])"
      ]
     },
     "execution_count": 216,
     "metadata": {},
     "output_type": "execute_result"
    }
   ],
   "source": [
    "X =  np.random.randint(4, 6, size=(n, 3, 3))\n",
    "print('Matrix:')\n",
    "print(X)\n",
    "print('Unique :')\n",
    "get_unique_values(X)"
   ]
  },
  {
   "cell_type": "markdown",
   "metadata": {
    "id": "W135mraVuJ4r"
   },
   "source": [
    "# 3. Pandas & Visualization (4 points)\n"
   ]
  },
  {
   "cell_type": "markdown",
   "metadata": {
    "id": "_UfaIXGcuJ4r"
   },
   "source": [
    "You are going to work with *Titanic* dataset which contains information about passengers of Titanic:\n",
    "- **Survived** - 1 - survived, 0 - died (0); **Target variable**\n",
    "- **pclass** - passengers's class;\n",
    "- **sex** - passengers's sex\n",
    "- **Age** - passengers's age in years\n",
    "- **sibsp**    - is the passenger someones siblings   \n",
    "- **parch**    - is the passenger someones child or parent\n",
    "- **ticket** - ticket number    \n",
    "- **fare** - ticket price    \n",
    "- **cabin** - cabin number\n",
    "- **embarked** - port of Embarkation; C = Cherbourg, Q = Queenstown, S = Southampton\n",
    "\n",
    "**Note** for all visualizations use matplotlib or seaborn but NOT plotly! Plotly's graphics sometimes vanish after saving. In this case the task won't be graded.\n",
    "\n",
    "**Note** support all your answers with necessary code, computations, vizualization, and explanation. Answers without code and explanation won't be graded.\n",
    "\n",
    "**Task 0** (0 points) \\\n",
    "Load the dataset and print first 6 rows"
   ]
  },
  {
   "cell_type": "code",
   "execution_count": 252,
   "metadata": {
    "id": "92IDku0HuJ4r"
   },
   "outputs": [
    {
     "data": {
      "text/html": [
       "<div>\n",
       "<style scoped>\n",
       "    .dataframe tbody tr th:only-of-type {\n",
       "        vertical-align: middle;\n",
       "    }\n",
       "\n",
       "    .dataframe tbody tr th {\n",
       "        vertical-align: top;\n",
       "    }\n",
       "\n",
       "    .dataframe thead th {\n",
       "        text-align: right;\n",
       "    }\n",
       "</style>\n",
       "<table border=\"1\" class=\"dataframe\">\n",
       "  <thead>\n",
       "    <tr style=\"text-align: right;\">\n",
       "      <th></th>\n",
       "      <th>PassengerId</th>\n",
       "      <th>Survived</th>\n",
       "      <th>Pclass</th>\n",
       "      <th>Name</th>\n",
       "      <th>Sex</th>\n",
       "      <th>Age</th>\n",
       "      <th>SibSp</th>\n",
       "      <th>Parch</th>\n",
       "      <th>Ticket</th>\n",
       "      <th>Fare</th>\n",
       "      <th>Cabin</th>\n",
       "      <th>Embarked</th>\n",
       "    </tr>\n",
       "  </thead>\n",
       "  <tbody>\n",
       "    <tr>\n",
       "      <th>0</th>\n",
       "      <td>1</td>\n",
       "      <td>0</td>\n",
       "      <td>3</td>\n",
       "      <td>Braund, Mr. Owen Harris</td>\n",
       "      <td>male</td>\n",
       "      <td>22.0</td>\n",
       "      <td>1</td>\n",
       "      <td>0</td>\n",
       "      <td>A/5 21171</td>\n",
       "      <td>7.2500</td>\n",
       "      <td>NaN</td>\n",
       "      <td>S</td>\n",
       "    </tr>\n",
       "    <tr>\n",
       "      <th>1</th>\n",
       "      <td>2</td>\n",
       "      <td>1</td>\n",
       "      <td>1</td>\n",
       "      <td>Cumings, Mrs. John Bradley (Florence Briggs Th...</td>\n",
       "      <td>female</td>\n",
       "      <td>38.0</td>\n",
       "      <td>1</td>\n",
       "      <td>0</td>\n",
       "      <td>PC 17599</td>\n",
       "      <td>71.2833</td>\n",
       "      <td>C85</td>\n",
       "      <td>C</td>\n",
       "    </tr>\n",
       "    <tr>\n",
       "      <th>2</th>\n",
       "      <td>3</td>\n",
       "      <td>1</td>\n",
       "      <td>3</td>\n",
       "      <td>Heikkinen, Miss. Laina</td>\n",
       "      <td>female</td>\n",
       "      <td>26.0</td>\n",
       "      <td>0</td>\n",
       "      <td>0</td>\n",
       "      <td>STON/O2. 3101282</td>\n",
       "      <td>7.9250</td>\n",
       "      <td>NaN</td>\n",
       "      <td>S</td>\n",
       "    </tr>\n",
       "    <tr>\n",
       "      <th>3</th>\n",
       "      <td>4</td>\n",
       "      <td>1</td>\n",
       "      <td>1</td>\n",
       "      <td>Futrelle, Mrs. Jacques Heath (Lily May Peel)</td>\n",
       "      <td>female</td>\n",
       "      <td>35.0</td>\n",
       "      <td>1</td>\n",
       "      <td>0</td>\n",
       "      <td>113803</td>\n",
       "      <td>53.1000</td>\n",
       "      <td>C123</td>\n",
       "      <td>S</td>\n",
       "    </tr>\n",
       "    <tr>\n",
       "      <th>4</th>\n",
       "      <td>5</td>\n",
       "      <td>0</td>\n",
       "      <td>3</td>\n",
       "      <td>Allen, Mr. William Henry</td>\n",
       "      <td>male</td>\n",
       "      <td>35.0</td>\n",
       "      <td>0</td>\n",
       "      <td>0</td>\n",
       "      <td>373450</td>\n",
       "      <td>8.0500</td>\n",
       "      <td>NaN</td>\n",
       "      <td>S</td>\n",
       "    </tr>\n",
       "    <tr>\n",
       "      <th>5</th>\n",
       "      <td>6</td>\n",
       "      <td>0</td>\n",
       "      <td>3</td>\n",
       "      <td>Moran, Mr. James</td>\n",
       "      <td>male</td>\n",
       "      <td>NaN</td>\n",
       "      <td>0</td>\n",
       "      <td>0</td>\n",
       "      <td>330877</td>\n",
       "      <td>8.4583</td>\n",
       "      <td>NaN</td>\n",
       "      <td>Q</td>\n",
       "    </tr>\n",
       "  </tbody>\n",
       "</table>\n",
       "</div>"
      ],
      "text/plain": [
       "   PassengerId  Survived  Pclass  \\\n",
       "0            1         0       3   \n",
       "1            2         1       1   \n",
       "2            3         1       3   \n",
       "3            4         1       1   \n",
       "4            5         0       3   \n",
       "5            6         0       3   \n",
       "\n",
       "                                                Name     Sex   Age  SibSp  \\\n",
       "0                            Braund, Mr. Owen Harris    male  22.0      1   \n",
       "1  Cumings, Mrs. John Bradley (Florence Briggs Th...  female  38.0      1   \n",
       "2                             Heikkinen, Miss. Laina  female  26.0      0   \n",
       "3       Futrelle, Mrs. Jacques Heath (Lily May Peel)  female  35.0      1   \n",
       "4                           Allen, Mr. William Henry    male  35.0      0   \n",
       "5                                   Moran, Mr. James    male   NaN      0   \n",
       "\n",
       "   Parch            Ticket     Fare Cabin Embarked  \n",
       "0      0         A/5 21171   7.2500   NaN        S  \n",
       "1      0          PC 17599  71.2833   C85        C  \n",
       "2      0  STON/O2. 3101282   7.9250   NaN        S  \n",
       "3      0            113803  53.1000  C123        S  \n",
       "4      0            373450   8.0500   NaN        S  \n",
       "5      0            330877   8.4583   NaN        Q  "
      ]
     },
     "execution_count": 252,
     "metadata": {},
     "output_type": "execute_result"
    }
   ],
   "source": [
    "dataset =  pd.read_csv('titanic.csv')\n",
    "dataset.head(6)"
   ]
  },
  {
   "cell_type": "markdown",
   "metadata": {
    "id": "0FeAHgZtuJ4r"
   },
   "source": [
    "**Task 1** (1 points) <br/>\n",
    "Answer the following questions:\n",
    "    \n",
    "    * Are there any missing values? In what columns?\n",
    "    * What is the percentage of survived passengers? Are the classes balanced?\n",
    "    * Were there more males or females?\n",
    "    * What what the least popular port of embarkation?\n",
    "    * How many passenger classes (pclass) were there on Tinanic?\n",
    "    * What is the overall average ticket fare? And for every passenger class?\n",
    "Please, write not only the answers but the code, proving it."
   ]
  },
  {
   "cell_type": "code",
   "execution_count": 356,
   "metadata": {
    "id": "4PizO86UuJ4r"
   },
   "outputs": [
    {
     "name": "stdout",
     "output_type": "stream",
     "text": [
      "1)\n"
     ]
    },
    {
     "data": {
      "text/plain": [
       "PassengerId      0\n",
       "Survived         0\n",
       "Pclass           0\n",
       "Name             0\n",
       "Sex              0\n",
       "Age            177\n",
       "SibSp            0\n",
       "Parch            0\n",
       "Ticket           0\n",
       "Fare             0\n",
       "Cabin          687\n",
       "Embarked         2\n",
       "dtype: int64"
      ]
     },
     "execution_count": 356,
     "metadata": {},
     "output_type": "execute_result"
    }
   ],
   "source": [
    "# 1. We can see 177 missing values in column 'Age', 2 missing values in column 'Embarked' and 687 ones in 'Cabin'\n",
    "print('1)')\n",
    "dataset.isna().sum()"
   ]
  },
  {
   "cell_type": "code",
   "execution_count": 376,
   "metadata": {},
   "outputs": [
    {
     "name": "stdout",
     "output_type": "stream",
     "text": [
      "2)\n"
     ]
    },
    {
     "data": {
      "text/plain": [
       "Pclass\n",
       "1    136\n",
       "3    119\n",
       "2     87\n",
       "Name: count, dtype: int64"
      ]
     },
     "execution_count": 376,
     "metadata": {},
     "output_type": "execute_result"
    }
   ],
   "source": [
    "# 2. Percentage of survived passengers is about 38, classes are not very balanced\n",
    "print('2)')\n",
    "dataset['Survived'].value_counts(normalize=True).apply(lambda x: x * 100)\n",
    "dataset[dataset['Survived'] == 1]['Pclass'].value_counts()"
   ]
  },
  {
   "cell_type": "code",
   "execution_count": 352,
   "metadata": {},
   "outputs": [
    {
     "name": "stdout",
     "output_type": "stream",
     "text": [
      "3)\n"
     ]
    },
    {
     "data": {
      "text/plain": [
       "Sex\n",
       "male      577\n",
       "female    314\n",
       "Name: count, dtype: int64"
      ]
     },
     "execution_count": 352,
     "metadata": {},
     "output_type": "execute_result"
    }
   ],
   "source": [
    "# 3. There are more males\n",
    "print('3)')\n",
    "dataset['Sex'].value_counts()"
   ]
  },
  {
   "cell_type": "code",
   "execution_count": 353,
   "metadata": {},
   "outputs": [
    {
     "name": "stdout",
     "output_type": "stream",
     "text": [
      "4)\n"
     ]
    },
    {
     "data": {
      "text/plain": [
       "Embarked\n",
       "S    644\n",
       "C    168\n",
       "Q     77\n",
       "Name: count, dtype: int64"
      ]
     },
     "execution_count": 353,
     "metadata": {},
     "output_type": "execute_result"
    }
   ],
   "source": [
    "# 4. The least popular port of embarkation is Queenstown\n",
    "print('4)')\n",
    "dataset['Embarked'].value_counts()"
   ]
  },
  {
   "cell_type": "code",
   "execution_count": 354,
   "metadata": {},
   "outputs": [
    {
     "name": "stdout",
     "output_type": "stream",
     "text": [
      "5)\n"
     ]
    },
    {
     "data": {
      "text/plain": [
       "Pclass\n",
       "3    491\n",
       "1    216\n",
       "2    184\n",
       "Name: count, dtype: int64"
      ]
     },
     "execution_count": 354,
     "metadata": {},
     "output_type": "execute_result"
    }
   ],
   "source": [
    "# 5. There are three Passenger classes on Titanic\n",
    "print('5)')\n",
    "dataset['Pclass'].value_counts()"
   ]
  },
  {
   "cell_type": "code",
   "execution_count": 355,
   "metadata": {},
   "outputs": [
    {
     "name": "stdout",
     "output_type": "stream",
     "text": [
      "6)\n"
     ]
    },
    {
     "data": {
      "text/plain": [
       "Pclass\n",
       "1    84.154687\n",
       "2    20.662183\n",
       "3    13.675550\n",
       "Name: Fare, dtype: float64"
      ]
     },
     "execution_count": 355,
     "metadata": {},
     "output_type": "execute_result"
    }
   ],
   "source": [
    "# 6. The overall average ticket fare is about 32, for 1 class - 84.154687, for 2 class - 20.662183 and for 3 - 13.675550\n",
    "print('6)')\n",
    "dataset['Fare'].agg('mean')\n",
    "dataset.groupby('Pclass')['Fare'].agg('mean')"
   ]
  },
  {
   "cell_type": "markdown",
   "metadata": {
    "id": "s9bfz5KbuJ4r"
   },
   "source": [
    "**Task 2** (0.5 points) <br/>\n",
    "Visualize age distribution (you may use a histogram, for example).\n",
    "\n",
    "    * What is the minimal and maximum ages of the passengers? Visualize it on the plot\n",
    "    * What is the median age? And among males and females separately? Visualize it on the separate plot\n",
    "    * Make conclusions about what you see on the plots"
   ]
  },
  {
   "cell_type": "code",
   "execution_count": 388,
   "metadata": {
    "id": "q19UF2SHuJ41"
   },
   "outputs": [
    {
     "data": {
      "text/plain": [
       "min     0.42\n",
       "max    80.00\n",
       "Name: Age, dtype: float64"
      ]
     },
     "execution_count": 388,
     "metadata": {},
     "output_type": "execute_result"
    }
   ],
   "source": [
    "# Minimal age is 0.42 and maximum is 80\n",
    "dataset['Age'].agg(['min', 'max'])"
   ]
  },
  {
   "cell_type": "code",
   "execution_count": 385,
   "metadata": {},
   "outputs": [
    {
     "data": {
      "image/png": "[encoded data removed]",
      "text/plain": [
       "<Figure size 640x480 with 1 Axes>"
      ]
     },
     "metadata": {},
     "output_type": "display_data"
    }
   ],
   "source": [
    "plt.hist(dataset['Age'], bins=20)\n",
    "plt.title(\"Age distribution\")\n",
    "plt.show()"
   ]
  },
  {
   "cell_type": "code",
   "execution_count": 389,
   "metadata": {},
   "outputs": [
    {
     "data": {
      "text/plain": [
       "27.0"
      ]
     },
     "execution_count": 389,
     "metadata": {},
     "output_type": "execute_result"
    }
   ],
   "source": [
    "# Median age is 28, for males is 29 and for females - 27\n",
    "dataset['Age'].agg('median')\n",
    "dataset[dataset['Sex'] == 'male']['Age'].agg('median')\n",
    "dataset[dataset['Sex'] == 'female']['Age'].agg('median')"
   ]
  },
  {
   "cell_type": "code",
   "execution_count": 392,
   "metadata": {},
   "outputs": [
    {
     "data": {
      "image/png": "[encoded data removed]",
      "text/plain": [
       "<Figure size 640x480 with 1 Axes>"
      ]
     },
     "metadata": {},
     "output_type": "display_data"
    }
   ],
   "source": [
    "plt.subplot(1, 2, 2)\n",
    "male_median = dataset[dataset['Sex'] == 'male']['Age'].median()\n",
    "female_median = dataset[dataset['Sex'] == 'female']['Age'].median()\n",
    "median = dataset['Age'].median()\n",
    "\n",
    "sns.barplot(x=['All', 'Male', 'Female'], y=[median, male_median, female_median])\n",
    "plt.title('Median Age by Gender')\n",
    "plt.ylabel('Median Age')\n",
    "plt.ylim(0, 80)\n",
    "\n",
    "plt.show()"
   ]
  },
  {
   "cell_type": "code",
   "execution_count": null,
   "metadata": {},
   "outputs": [],
   "source": [
    "# Conclusion: we can see that median value is deviated to the left, \n",
    "# ~21-22 are the most frequency values, \n",
    "# the distribution is not very similar to normal"
   ]
  },
  {
   "cell_type": "markdown",
   "metadata": {
    "id": "ye6WohwXuJ41"
   },
   "source": [
    "**Task 3** (1 points) <br/>\n",
    "Find all the titles of the passengers (example, *Capt., Mr.,Mme.*), which are written in the column Name, and answer the following questions:\n",
    "\n",
    "    * How many are there unique titles?\n",
    "    * How many are there passengers with every title?\n",
    "    * What is the most popular man's title? And woman's title?\n",
    "    \n",
    "**Hint** You may select the title from the name as a word which contains a dot and is not middle name."
   ]
  },
  {
   "cell_type": "code",
   "execution_count": 397,
   "metadata": {
    "id": "LDBIRnGXuJ41"
   },
   "outputs": [
    {
     "data": {
      "text/plain": [
       "0        Mr.\n",
       "1       Mrs.\n",
       "2      Miss.\n",
       "3       Mrs.\n",
       "4        Mr.\n",
       "       ...  \n",
       "886     Rev.\n",
       "887    Miss.\n",
       "888    Miss.\n",
       "889      Mr.\n",
       "890      Mr.\n",
       "Name: Name, Length: 891, dtype: object"
      ]
     },
     "execution_count": 397,
     "metadata": {},
     "output_type": "execute_result"
    }
   ],
   "source": [
    "titles = dataset['Name'].apply(lambda x: x.split(', ')[1].split()[0])\n",
    "titles"
   ]
  },
  {
   "cell_type": "code",
   "execution_count": 394,
   "metadata": {},
   "outputs": [
    {
     "data": {
      "text/plain": [
       "(17,)"
      ]
     },
     "execution_count": 394,
     "metadata": {},
     "output_type": "execute_result"
    }
   ],
   "source": [
    "# 1. There are 17 unique titles\n",
    "titles.unique().shape[0]"
   ]
  },
  {
   "cell_type": "code",
   "execution_count": 396,
   "metadata": {},
   "outputs": [
    {
     "data": {
      "text/plain": [
       "Name\n",
       "Mr.          517\n",
       "Miss.        182\n",
       "Mrs.         125\n",
       "Master.       40\n",
       "Dr.            7\n",
       "Rev.           6\n",
       "Mlle.          2\n",
       "Major.         2\n",
       "Col.           2\n",
       "the            1\n",
       "Capt.          1\n",
       "Ms.            1\n",
       "Sir.           1\n",
       "Lady.          1\n",
       "Mme.           1\n",
       "Don.           1\n",
       "Jonkheer.      1\n",
       "Name: count, dtype: int64"
      ]
     },
     "execution_count": 396,
     "metadata": {},
     "output_type": "execute_result"
    }
   ],
   "source": [
    "# 2. \n",
    "titles.value_counts()\n",
    "# 3. The most popular man's title is Mr., and for womans's - Miss."
   ]
  },
  {
   "cell_type": "markdown",
   "metadata": {
    "id": "n0RsqbTPuJ41"
   },
   "source": [
    "**Task 4** (0.5 points) <br/>\n",
    "Is there correlation between *pclass* and *ticket price*? Calculate mean price for each class and visualize price distribution for each class as well. Make conclusions about what you see on the plot\n",
    "\n",
    "Hint: you could make one or several plot types i.e.  box, violine, pair, histogram (see additional notebooks for Seminar 1 \"Visualization with Seaborn\"). Main point here is to **choose** plots wisely and **make meaningful conclusions**\n",
    "\n"
   ]
  },
  {
   "cell_type": "code",
   "execution_count": 341,
   "metadata": {
    "id": "fkvVvnHPuJ41"
   },
   "outputs": [
    {
     "data": {
      "text/plain": [
       "-0.5494996199439082"
      ]
     },
     "execution_count": 341,
     "metadata": {},
     "output_type": "execute_result"
    }
   ],
   "source": [
    "# The correlation between pclass and ticket price is -0.55\n",
    "dataset['Pclass'].corr(dataset['Fare'])"
   ]
  },
  {
   "cell_type": "code",
   "execution_count": 342,
   "metadata": {},
   "outputs": [
    {
     "data": {
      "text/plain": [
       "Pclass\n",
       "1    84.154687\n",
       "2    20.662183\n",
       "3    13.675550\n",
       "Name: Fare, dtype: float64"
      ]
     },
     "execution_count": 342,
     "metadata": {},
     "output_type": "execute_result"
    }
   ],
   "source": [
    "# The mean price for each class\n",
    "dataset.groupby('Pclass')['Fare'].agg('mean')"
   ]
  },
  {
   "cell_type": "code",
   "execution_count": 343,
   "metadata": {},
   "outputs": [
    {
     "data": {
      "text/plain": [
       "<seaborn.axisgrid.PairGrid at 0x16a0e0a90>"
      ]
     },
     "execution_count": 343,
     "metadata": {},
     "output_type": "execute_result"
    },
    {
     "data": {
      "image/png": "[encoded data removed]",
      "text/plain": [
       "<Figure size 500x500 with 6 Axes>"
      ]
     },
     "metadata": {},
     "output_type": "display_data"
    }
   ],
   "source": [
    "# Pairplot\n",
    "sns.pairplot(data=dataset[['Pclass', 'Fare']])"
   ]
  },
  {
   "cell_type": "code",
   "execution_count": 411,
   "metadata": {},
   "outputs": [
    {
     "data": {
      "text/plain": [
       "<Axes: xlabel='Pclass', ylabel='Fare'>"
      ]
     },
     "execution_count": 411,
     "metadata": {},
     "output_type": "execute_result"
    },
    {
     "data": {
      "image/png": "[encoded data removed]",
      "text/plain": [
       "<Figure size 640x480 with 1 Axes>"
      ]
     },
     "metadata": {},
     "output_type": "display_data"
    }
   ],
   "source": [
    "# Violin plot\n",
    "sns.violinplot(data=dataset, x=\"Pclass\", y=\"Fare\")"
   ]
  },
  {
   "cell_type": "markdown",
   "metadata": {},
   "source": [
    "We can see a big outlier in the first class, it seems to be one royal ticket in Titanic..."
   ]
  },
  {
   "cell_type": "code",
   "execution_count": 414,
   "metadata": {},
   "outputs": [
    {
     "data": {
      "image/png": "[encoded data removed]",
      "text/plain": [
       "<Figure size 800x500 with 1 Axes>"
      ]
     },
     "metadata": {},
     "output_type": "display_data"
    }
   ],
   "source": [
    "plt.figure(figsize=(8, 5))\n",
    "sns.boxplot(data=dataset, x='Pclass', y='Fare')\n",
    "\n",
    "plt.show()"
   ]
  },
  {
   "cell_type": "markdown",
   "metadata": {},
   "source": [
    "**Answer** - We can see that the correlation between the parameters 'Pclass' and 'Fare' is almost -0.55, this tells us about a weak inverse relationship. On the boxplot we can see a big amount of outliers in first and third classes, that can be reasons of this relationship. We need to delete this outliers before building the model and also check other correlations with other parameters, it will really improve the model."
   ]
  },
  {
   "cell_type": "markdown",
   "metadata": {
    "id": "UcptRilCuJ41"
   },
   "source": [
    "**Task 5** (0.5 points) <br/>\n",
    "The same question as in task 4 about correlation between *embarked* and *ticket priсe*."
   ]
  },
  {
   "cell_type": "code",
   "execution_count": 410,
   "metadata": {
    "id": "biR9anS5uJ41"
   },
   "outputs": [
    {
     "data": {
      "text/plain": [
       "-0.22631118369626857"
      ]
     },
     "execution_count": 410,
     "metadata": {},
     "output_type": "execute_result"
    }
   ],
   "source": [
    "def inverse(x):\n",
    "    if x == 'C':\n",
    "        return 1\n",
    "    elif x == 'Q':\n",
    "        return 2\n",
    "    elif x == 'S':\n",
    "        return 3\n",
    "\n",
    "# New column for calculating the correlation\n",
    "new_embarked = dataset['Embarked'].apply(inverse)\n",
    "dataset['Fare'].corr(new_embarked)"
   ]
  },
  {
   "cell_type": "code",
   "execution_count": 416,
   "metadata": {},
   "outputs": [
    {
     "data": {
      "text/plain": [
       "Embarked\n",
       "C    59.954144\n",
       "Q    13.276030\n",
       "S    27.079812\n",
       "Name: Fare, dtype: float64"
      ]
     },
     "execution_count": 416,
     "metadata": {},
     "output_type": "execute_result"
    }
   ],
   "source": [
    "# The mean price for each class\n",
    "dataset.groupby('Embarked')['Fare'].agg('mean')"
   ]
  },
  {
   "cell_type": "code",
   "execution_count": 433,
   "metadata": {},
   "outputs": [
    {
     "data": {
      "text/plain": [
       "Text(0, 0.5, 'Ticket Price')"
      ]
     },
     "execution_count": 433,
     "metadata": {},
     "output_type": "execute_result"
    },
    {
     "data": {
      "image/png": "[encoded data removed]",
      "text/plain": [
       "<Figure size 1200x600 with 1 Axes>"
      ]
     },
     "metadata": {},
     "output_type": "display_data"
    }
   ],
   "source": [
    "plt.figure(figsize=(12, 6))\n",
    "\n",
    "# Boxplot\n",
    "plt.subplot(1, 2, 1)\n",
    "sns.boxplot(data=dataset, x='Embarked', y='Fare')\n",
    "plt.title('Ticket Price Distribution by Embarkation Port (Boxplot)')\n",
    "plt.xlabel('Embarked')\n",
    "plt.ylabel('Ticket Price')"
   ]
  },
  {
   "cell_type": "code",
   "execution_count": 439,
   "metadata": {},
   "outputs": [
    {
     "data": {
      "image/png": "[encoded data removed]",
      "text/plain": [
       "<Figure size 640x480 with 1 Axes>"
      ]
     },
     "metadata": {},
     "output_type": "display_data"
    }
   ],
   "source": [
    "# Violin plot\n",
    "plt.subplot(1, 2, 2)\n",
    "sns.violinplot(data=dataset, x='Embarked', y='Fare')\n",
    "plt.title('Ticket Price Distribution by Embarkation Port (Violin Plot)')\n",
    "plt.xlabel('Embarked')\n",
    "plt.ylabel('Ticket Price')\n",
    "plt.show()"
   ]
  },
  {
   "cell_type": "markdown",
   "metadata": {
    "id": "eeKKfMOguJ41"
   },
   "source": [
    "**Task 6** (0.5 points) <br/>\n",
    "Visualize age distribution for survived and not survived passengers separately and calculate the mean age for each class. Are they different? Provide the same visualization for males and females separately. Make conclusions about what you see on the plots"
   ]
  },
  {
   "cell_type": "code",
   "execution_count": 402,
   "metadata": {
    "id": "udmgFlQTuJ42"
   },
   "outputs": [
    {
     "data": {
      "image/png": "[encoded data removed]",
      "text/plain": [
       "<Figure size 640x480 with 1 Axes>"
      ]
     },
     "metadata": {},
     "output_type": "display_data"
    }
   ],
   "source": [
    "plt.hist(dataset[dataset['Survived'] == 1]['Age'], bins=20)\n",
    "plt.title(\"Age distribution for survived passengers\")\n",
    "plt.xlabel('Age')\n",
    "plt.ylabel('Count')\n",
    "plt.show()"
   ]
  },
  {
   "cell_type": "code",
   "execution_count": 401,
   "metadata": {},
   "outputs": [
    {
     "data": {
      "image/png": "[encoded data removed]",
      "text/plain": [
       "<Figure size 640x480 with 1 Axes>"
      ]
     },
     "metadata": {},
     "output_type": "display_data"
    }
   ],
   "source": [
    "plt.hist(dataset[dataset['Survived'] == 0]['Age'], bins=20)\n",
    "plt.title(\"Age distribution for not survived passengers\")\n",
    "plt.xlabel('Age')\n",
    "plt.ylabel('Count')\n",
    "plt.show()"
   ]
  },
  {
   "cell_type": "code",
   "execution_count": 369,
   "metadata": {},
   "outputs": [
    {
     "data": {
      "text/plain": [
       "Survived\n",
       "0    30.626179\n",
       "1    28.343690\n",
       "Name: Age, dtype: float64"
      ]
     },
     "execution_count": 369,
     "metadata": {},
     "output_type": "execute_result"
    }
   ],
   "source": [
    "# The mean age for each class\n",
    "dataset.groupby('Survived')['Age'].agg('mean')"
   ]
  },
  {
   "cell_type": "markdown",
   "metadata": {},
   "source": [
    "**Значения не очень сильно отличаются, по графикам видно, что в основном умирали и выживали люди в диапазоне от ~16-30**"
   ]
  },
  {
   "cell_type": "code",
   "execution_count": 400,
   "metadata": {},
   "outputs": [
    {
     "data": {
      "image/png": "[encoded data removed]",
      "text/plain": [
       "<Figure size 640x480 with 1 Axes>"
      ]
     },
     "metadata": {},
     "output_type": "display_data"
    }
   ],
   "source": [
    "plt.hist(dataset[(dataset['Survived'] == 1) & (dataset['Sex'] == 'male')]['Age'], bins=20)\n",
    "plt.title(\"Age distribution for survived males\")\n",
    "plt.xlabel('Age')\n",
    "plt.ylabel('Count')\n",
    "plt.show()"
   ]
  },
  {
   "cell_type": "code",
   "execution_count": 399,
   "metadata": {},
   "outputs": [
    {
     "data": {
      "image/png": "[encoded data removed]",
      "text/plain": [
       "<Figure size 640x480 with 1 Axes>"
      ]
     },
     "metadata": {},
     "output_type": "display_data"
    }
   ],
   "source": [
    "plt.hist(dataset[(dataset['Survived'] == 1) & (dataset['Sex'] == 'female')]['Age'], bins=20)\n",
    "plt.title(\"Age distribution for survived females\")\n",
    "plt.xlabel('Age')\n",
    "plt.ylabel('Count')\n",
    "plt.show()"
   ]
  },
  {
   "cell_type": "markdown",
   "metadata": {},
   "source": [
    "**Conclusion**\n",
    "\n",
    "На графиках можно увидеть, что выжило очень много детей около 1 года, в отличие от девочек того же возраста. Также высокие показатели у мужчин около 30 лет среди остального возраста у мужчин, остальные показатели намного ниже. У женщин больше всего частоты от 18 до 40 лет. \n",
    "Таким образом, сильных различий между средним возрастом умерших и выживших пассажиров не наблюдается (средний возраст ~30), по графикам видно, что очень много выжило младенцев (мальчиков), а также видно, что женщин выжило намного больше, чем мужчин, то есть первым приоритетом спасения были женщины и дети, и только потом мужчины."
   ]
  }
 ],
 "metadata": {
  "colab": {
   "provenance": []
  },
  "kernelspec": {
   "display_name": "Python 3 (ipykernel)",
   "language": "python",
   "name": "python3"
  },
  "language_info": {
   "codemirror_mode": {
    "name": "ipython",
    "version": 3
   },
   "file_extension": ".py",
   "mimetype": "text/x-python",
   "name": "python",
   "nbconvert_exporter": "python",
   "pygments_lexer": "ipython3",
   "version": "3.11.3"
  }
 },
 "nbformat": 4,
 "nbformat_minor": 4
}
